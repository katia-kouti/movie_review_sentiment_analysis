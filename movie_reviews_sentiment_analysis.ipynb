{
  "cells": [
    {
      "cell_type": "markdown",
      "metadata": {
        "id": "qRIAqLn8tJ1_"
      },
      "source": [
        "Dataset Loading and Preprocessing"
      ]
    },
    {
      "cell_type": "code",
      "execution_count": 92,
      "metadata": {
        "colab": {
          "base_uri": "https://localhost:8080/"
        },
        "id": "HQQD6_gVtNnV",
        "outputId": "5b7be6c1-ba2a-46f0-9ad5-cf702b70d51f"
      },
      "outputs": [
        {
          "name": "stdout",
          "output_type": "stream",
          "text": [
            "Number of reviews: 2000\n"
          ]
        }
      ],
      "source": [
        "# Load the movie_reviews dataset\n",
        "reviews = [(movie_reviews.words(fileid), category)\n",
        "           for category in movie_reviews.categories()\n",
        "           for fileid in movie_reviews.fileids(category)]\n",
        "\n",
        "print(\"Number of reviews:\", len(reviews))\n",
        "\n",
        "# Preprocess reviews\n",
        "preprocessed_reviews = []\n",
        "for review, label in reviews:\n",
        "    words = [word.lower() for word in review ]\n",
        "    preprocessed_reviews.append((' '.join(words), label))\n",
        "\n",
        "# Possitive reviews are represented as Class 1 - Negative reviews are Class 0 !\n",
        "reviews_text = [review for review, _ in preprocessed_reviews]\n",
        "labels = [1 if label == 'pos' else 0 for _, label in preprocessed_reviews]\n"
      ]
    },
    {
      "cell_type": "markdown",
      "metadata": {
        "id": "QoRzVzloEGFq"
      },
      "source": [
        "Model Training & Predictions\n",
        "\n",
        "* TF-IDF Vectorizer\n",
        "* Support Vector Classifier (SVM): Model training, Prediction and Evaluation using Accuracy\n",
        "* Cross-Validation Implementation: Stratified k-fold\n",
        "\n",
        "\n"
      ]
    },
    {
      "cell_type": "code",
      "execution_count": 93,
      "metadata": {
        "colab": {
          "base_uri": "https://localhost:8080/"
        },
        "id": "oo3Uk0jQDO56",
        "outputId": "4f5e136a-8e1a-47c1-8a64-d9613251cdaf"
      },
      "outputs": [
        {
          "name": "stdout",
          "output_type": "stream",
          "text": [
            "Mean Accuracy (Stratified K-Fold with SVM): 0.8290000000000001\n"
          ]
        }
      ],
      "source": [
        "# Define the number of folds\n",
        "n_folds = 5\n",
        "\n",
        "# Initialize StratifiedKFold\n",
        "stratified_kf = StratifiedKFold(n_splits=n_folds, shuffle=True, random_state=30)\n",
        "\n",
        "# Lists to store scores\n",
        "accuracy_scores = []\n",
        "\n",
        "# List to store examples (for sample printing later)\n",
        "example_predictions = []\n",
        "\n",
        "# Perform stratified k-fold cross-validation\n",
        "for train_index, test_index in stratified_kf.split(reviews_text, labels):\n",
        "    X_train_fold, X_test_fold = [reviews_text[i] for i in train_index], [reviews_text[i] for i in test_index]\n",
        "    y_train_fold, y_test_fold = [labels[i] for i in train_index], [labels[i] for i in test_index]\n",
        "\n",
        "    # Create TF-IDF vectorizer\n",
        "    vectorizer = TfidfVectorizer(max_features=1000)\n",
        "    X_train_tfidf_fold = vectorizer.fit_transform(X_train_fold)\n",
        "    X_test_tfidf_fold = vectorizer.transform(X_test_fold)\n",
        "\n",
        "    # Train SVM classifier\n",
        "    svm_clf = SVC()\n",
        "    svm_clf.fit(X_train_tfidf_fold, y_train_fold)\n",
        "\n",
        "    # Predict on test set\n",
        "    y_pred_fold = svm_clf.predict(X_test_tfidf_fold)\n",
        "\n",
        "    # Calculate accuracy\n",
        "    accuracy_fold = accuracy_score(y_test_fold, y_pred_fold)\n",
        "    accuracy_scores.append(accuracy_fold)\n",
        "\n",
        "    # Store examples of model's classification for sample printing\n",
        "    example_predictions.extend(zip(X_test_fold, y_test_fold, y_pred_fold))\n",
        "\n",
        "# Calculate mean accuracy across folds\n",
        "mean_accuracy = np.mean(accuracy_scores)\n",
        "print(\"Mean Accuracy (Stratified K-Fold with SVM):\", mean_accuracy)\n"
      ]
    },
    {
      "cell_type": "markdown",
      "metadata": {
        "id": "63e3adX8LUOp"
      },
      "source": [
        "Sample Printing of the Models Prediction"
      ]
    },
    {
      "cell_type": "code",
      "execution_count": 95,
      "metadata": {
        "colab": {
          "base_uri": "https://localhost:8080/"
        },
        "id": "fS2FN6diLRF0",
        "outputId": "1cf1c1f2-0390-4f15-9999-16e180c83c49"
      },
      "outputs": [
        {
          "name": "stdout",
          "output_type": "stream",
          "text": [
            "\n",
            "Examples of model's classification:\n",
            "Review: funny how your expectations can be defeated , and not in good ways . the ghost and the darkness promised ( at least , it seemed to me to promise ) a hemingwayesque showdown between men and nature . wh  [...]\n",
            "True Label: 0\n",
            "Predicted Label: 0\n",
            "-----------------------------\n",
            "Review: so here is the second of 1999 ' s remakes of classic horror movies . the first was the dumb , pathetic but ok remake of the classic ' the haunting ' . now comes the highly awaited remake of house on h  [...]\n",
            "True Label: 1\n",
            "Predicted Label: 1\n",
            "-----------------------------\n",
            "Review: anastasia contains something that has been lacking from all of the recent disney releases . . . ( especially hercules ) . . . emotion . all the wacky characters voiced by celebrities and fantastically  [...]\n",
            "True Label: 1\n",
            "Predicted Label: 1\n",
            "-----------------------------\n",
            "Review: capsule : gal is a 50s - ish london cockney gangster who has retired to spain . his old associates want him for one last job and send the vicious don to give him an offer he can ' t refuse . a standou  [...]\n",
            "True Label: 0\n",
            "Predicted Label: 0\n",
            "-----------------------------\n",
            "Review: ingredients : london gal , fate , true love , running joke about monty python ' s spanish inquisition synopsis : american actress gwyneth paltrow with dark hair , playing a londoner ? believe it . sli  [...]\n",
            "True Label: 1\n",
            "Predicted Label: 1\n",
            "-----------------------------\n",
            "Review: after bloody clashes and independence won , lumumba refused to pander to the belgians , who continued a condescending and paternalistic relationship with the congo . their officers , particularly gene  [...]\n",
            "True Label: 1\n",
            "Predicted Label: 1\n",
            "-----------------------------\n",
            "Review: i rented \" brokedown palace \" last night blind , having heard nothing about it beforehand , and i enjoyed it immensely despite some flaws . for anyone wishing to have the same experience i would sugge  [...]\n",
            "True Label: 1\n",
            "Predicted Label: 1\n",
            "-----------------------------\n",
            "Review: inspired by the 1958 film house on haunted hill starring vincent price . directed by william malone . starring geoffrey rush , famke janssen , and chris kattan . rated r ( contains violence , profanit  [...]\n",
            "True Label: 0\n",
            "Predicted Label: 0\n",
            "-----------------------------\n",
            "Review: three things i learned from \" being john malkovich \" : when getting on the elevator for your first day of work on the 7 1 / 2th floor of a building , always bring your crowbar ; don ' t stand in the w  [...]\n",
            "True Label: 1\n",
            "Predicted Label: 1\n",
            "-----------------------------\n",
            "Review: has hollywood run out of interesting characters and plot - driven suspense thrillers that we must spend two hours watching will smith and a gritty gene hackman exchange obtuse dialogue and run around   [...]\n",
            "True Label: 0\n",
            "Predicted Label: 1\n",
            "-----------------------------\n"
          ]
        }
      ],
      "source": [
        "# Print examples of model's classification\n",
        "print(\"\\nExamples of model's classification:\")\n",
        "random_indices = random.sample(range(len(example_predictions)), 10)\n",
        "for index in random_indices:\n",
        "    review, true_label, predicted_label = example_predictions[index]\n",
        "    print(\"Review:\", review[:200],\" [...]\")\n",
        "    print(\"True Label:\", true_label)\n",
        "    print(\"Predicted Label:\", predicted_label)\n",
        "    print(\"-----------------------------\")"
      ]
    }
  ],
  "metadata": {
    "colab": {
      "provenance": [],
      "toc_visible": true
    },
    "kernelspec": {
      "display_name": "Python 3",
      "name": "python3"
    },
    "language_info": {
      "name": "python"
    }
  },
  "nbformat": 4,
  "nbformat_minor": 0
}
